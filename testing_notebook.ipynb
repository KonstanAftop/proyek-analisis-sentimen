{
 "cells": [
  {
   "cell_type": "code",
   "execution_count": 18,
   "id": "e1218987",
   "metadata": {},
   "outputs": [
    {
     "name": "stderr",
     "output_type": "stream",
     "text": [
      "WARNING:absl:Compiled the loaded model, but the compiled metrics have yet to be built. `model.compile_metrics` will be empty until you train or evaluate the model.\n"
     ]
    }
   ],
   "source": [
    "from tensorflow.keras.models import load_model\n",
    "from tensorflow.keras.preprocessing.sequence import pad_sequences\n",
    "import pickle\n",
    "from cleaning_text import preprocessed_text\n",
    "\n",
    "with open('tokenizer.pkl', 'rb') as f:\n",
    "    tokenizer = pickle.load(f)\n",
    "model = load_model('model_sentimen_gojekdriver.h5')"
   ]
  },
  {
   "cell_type": "code",
   "execution_count": 59,
   "id": "19759bac",
   "metadata": {},
   "outputs": [
    {
     "name": "stdout",
     "output_type": "stream",
     "text": [
      "Review : aplikasi butut banget, saya gapernah dapat orderan, gak adil teman saya dapat banyak\n",
      "\u001b[1m1/1\u001b[0m \u001b[32m━━━━━━━━━━━━━━━━━━━━\u001b[0m\u001b[37m\u001b[0m \u001b[1m0s\u001b[0m 32ms/step\n",
      "Probabilitas: [[9.9992120e-01 6.3976760e-05 1.4751031e-05]]\n",
      "Sentimen yang diprediksi: Negatif\n"
     ]
    }
   ],
   "source": [
    "option=int(input('MAU INFERENSI SAMPEL(0) ATAU NYOBA ULASANMU SENDIRI (1)?'))\n",
    "if (option==1):\n",
    "    new_text = input(str('Masukkan ulasanmu : '))\n",
    "else:\n",
    "    new_text=\"Dari pagi sampe sore narik lancar jaya! 😍 Map nya udah beneran fix, titik jemput pas bgt, customer juga puas.fitur bantuannya udh lumayan bisa dipake juga klo ada kendala 🙌. Good job tim gojek!\"\n",
    "print(f'Review : {new_text}')\n",
    "\n",
    "new_text=preprocessed_text(new_text)\n",
    "\n",
    "sequences = tokenizer.texts_to_sequences([new_text])\n",
    "\n",
    "padded = pad_sequences(sequences, maxlen=100, padding='post')\n",
    "\n",
    "pred = model.predict(padded)\n",
    "predicted_class = pred.argmax(axis=1)\n",
    "\n",
    "print(\"Probabilitas:\", pred)\n",
    "\n",
    "if predicted_class==2 :\n",
    "    predicted_class='Positif'\n",
    "elif predicted_class==1 :\n",
    "    predicted_class='Netral'\n",
    "else:\n",
    "    predicted_class='Negatif'\n",
    "\n",
    "print(\"Sentimen yang diprediksi:\", predicted_class)\n"
   ]
  },
  {
   "cell_type": "markdown",
   "id": "d21fc20a",
   "metadata": {},
   "source": [
    "<b>Salah satu hal yang saya temukan sebagai area perbaikan adalah kurangnya kemampuan model dalam membedakan antara kelas positif dan netral. Selain itu, dari beberapa test case yang saya lakukan, model juga terkadang memprediksi ulasan bernada positif sebagai negatif—kemungkinan karena keterbatasan dalam memahami kosakata slang. Saya sangat terbuka dan antusias menerima masukan atau saran terkait proyek ini agar dapat saya kembangkan lebih baik ke depannya. Terima kasih."
   ]
  }
 ],
 "metadata": {
  "kernelspec": {
   "display_name": "waruds",
   "language": "python",
   "name": "python3"
  },
  "language_info": {
   "codemirror_mode": {
    "name": "ipython",
    "version": 3
   },
   "file_extension": ".py",
   "mimetype": "text/x-python",
   "name": "python",
   "nbconvert_exporter": "python",
   "pygments_lexer": "ipython3",
   "version": "3.9.21"
  }
 },
 "nbformat": 4,
 "nbformat_minor": 5
}
